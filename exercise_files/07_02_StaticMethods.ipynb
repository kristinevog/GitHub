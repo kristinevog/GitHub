{
 "cells": [
  {
   "cell_type": "markdown",
   "id": "ca340ac5",
   "metadata": {},
   "source": [
    "## Static and Instance Methods"
   ]
  },
  {
   "cell_type": "code",
   "execution_count": 4,
   "id": "abae6b1e",
   "metadata": {},
   "outputs": [
    {
     "name": "stdout",
     "output_type": "stream",
     "text": [
      "{'a', 'add', 'another', 'is', 'to', 'hi', 'sentence', 'here', 'want', 'i', 'ryan', 'im'}\n"
     ]
    }
   ],
   "source": [
    "class WordSet:\n",
    "    def __init__(self):\n",
    "        self.words = set()\n",
    "        \n",
    "    def addText(self, text):\n",
    "        text = WordSet.cleanText(text)\n",
    "        for word in text.split():\n",
    "            self.words.add(word)\n",
    "            \n",
    "        \n",
    "    def cleanText(text):\n",
    "        # chaining functions\n",
    "        text = text.replace('!', '').replace('.', '').replace(',', '').replace('\\'', '')\n",
    "        return text.lower()\n",
    "    \n",
    "        \n",
    "wordSet = WordSet()\n",
    "\n",
    "wordSet.addText('Hi, I\\'m Ryan! Here is a sentence I want to add!')\n",
    "wordSet.addText('Here is another sentence I want to add.')\n",
    "\n",
    "print(wordSet.words)"
   ]
  },
  {
   "cell_type": "code",
   "execution_count": 6,
   "id": "b022da1d",
   "metadata": {},
   "outputs": [
    {
     "name": "stdout",
     "output_type": "stream",
     "text": [
      "{'a', 'add', 'another', 'is', 'to', 'hi', 'sentence', 'here', 'want', 'i', 'ryan', 'im'}\n"
     ]
    }
   ],
   "source": [
    "class WordSet:\n",
    "    replacePuncs = ['!', '.', ',', '\\'']\n",
    "    def __init__(self):\n",
    "        self.words = set()\n",
    "        \n",
    "    def addText(self, text):\n",
    "        text = WordSet.cleanText(text)\n",
    "        for word in text.split():\n",
    "            self.words.add(word)\n",
    "            \n",
    "        \n",
    "    def cleanText(text):\n",
    "        # chaining functions\n",
    "        for punc in WordSet.replacePuncs:\n",
    "            text = text.replace(punc, '')\n",
    "        return text.lower()\n",
    "    \n",
    "        \n",
    "wordSet = WordSet()\n",
    "\n",
    "wordSet.addText('Hi, I\\'m Ryan! Here is a sentence I want to add!')\n",
    "wordSet.addText('Here is another sentence I want to add.')\n",
    "\n",
    "print(wordSet.words)"
   ]
  },
  {
   "cell_type": "code",
   "execution_count": null,
   "id": "b23df77f",
   "metadata": {},
   "outputs": [],
   "source": []
  },
  {
   "cell_type": "markdown",
   "id": "bec9bbe4",
   "metadata": {},
   "source": [
    "### Decorators "
   ]
  },
  {
   "cell_type": "code",
   "execution_count": 7,
   "id": "87b6c48c",
   "metadata": {},
   "outputs": [
    {
     "name": "stdout",
     "output_type": "stream",
     "text": [
      "{'a', 'add', 'another', 'is', 'to', 'hi', 'sentence', 'here', 'want', 'i', 'ryan', 'im'}\n"
     ]
    }
   ],
   "source": [
    "class WordSet:\n",
    "    replacePuncs = ['!', '.', ',', '\\'']\n",
    "    def __init__(self):\n",
    "        self.words = set()\n",
    "        \n",
    "    def addText(self, text):\n",
    "        text = self.cleanText(text)\n",
    "        for word in text.split():\n",
    "            self.words.add(word)\n",
    "            \n",
    "    @staticmethod\n",
    "    def cleanText(text):\n",
    "        # chaining functions\n",
    "        for punc in WordSet.replacePuncs:\n",
    "            text = text.replace(punc, '')\n",
    "        return text.lower()\n",
    "    \n",
    "        \n",
    "wordSet = WordSet()\n",
    "\n",
    "wordSet.addText('Hi, I\\'m Ryan! Here is a sentence I want to add!')\n",
    "wordSet.addText('Here is another sentence I want to add.')\n",
    "\n",
    "print(wordSet.words)"
   ]
  },
  {
   "cell_type": "code",
   "execution_count": null,
   "id": "bf70671d",
   "metadata": {},
   "outputs": [],
   "source": []
  }
 ],
 "metadata": {
  "kernelspec": {
   "display_name": "Python 3 (ipykernel)",
   "language": "python",
   "name": "python3"
  },
  "language_info": {
   "codemirror_mode": {
    "name": "ipython",
    "version": 3
   },
   "file_extension": ".py",
   "mimetype": "text/x-python",
   "name": "python",
   "nbconvert_exporter": "python",
   "pygments_lexer": "ipython3",
   "version": "3.10.4"
  }
 },
 "nbformat": 4,
 "nbformat_minor": 5
}
