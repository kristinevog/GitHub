{
 "cells": [
  {
   "cell_type": "markdown",
   "id": "6a6c3649",
   "metadata": {},
   "source": [
    "## ASCII Art Encoding\n",
    "\n",
    "Write a function \"encodeString\" that will encode a string like 'AAAAABBBBAAA' as a list of tuples: [('A', 5), ('B', 4), ('A', 3)] meaning that the string has \"5 A's, followed by 4 B's, followed by 3 A's\"\n",
    "\n",
    "Then use that function to compress a string containing \"ASCII Art\" (https://en.wikipedia.org/wiki/ASCII_art)\n",
    "\n",
    "Write a corresponding function \"decodeString\" that will take in a list of tuples and print the original string.\n"
   ]
  },
  {
   "cell_type": "markdown",
   "id": "47490f41",
   "metadata": {},
   "source": [
    "### Challenge Hints!"
   ]
  },
  {
   "cell_type": "markdown",
   "id": "a8c64bd5",
   "metadata": {},
   "source": [
    "**Hint 1:** While iterating through each character of a string, we can print out when a string has \"switched\" from one character to another:"
   ]
  },
  {
   "cell_type": "code",
   "execution_count": 2,
   "id": "c3d70033",
   "metadata": {},
   "outputs": [
    {
     "name": "stdout",
     "output_type": "stream",
     "text": [
      "New character is A\n",
      "New character is B\n",
      "New character is C\n"
     ]
    }
   ],
   "source": [
    "stringVal = 'AAAAABBBBBCCCCC'\n",
    "\n",
    "prevChar = None\n",
    "for char in stringVal:\n",
    "    if char != prevChar:\n",
    "        print(f'New character is {char}')\n",
    "    prevChar = char"
   ]
  },
  {
   "cell_type": "markdown",
   "id": "54ce72f7",
   "metadata": {},
   "source": [
    "**Hint 2:** Remember that you can multiply a string by a number!"
   ]
  },
  {
   "cell_type": "code",
   "execution_count": 3,
   "id": "7ab4bd96",
   "metadata": {},
   "outputs": [
    {
     "data": {
      "text/plain": [
       "'AAAAA'"
      ]
     },
     "execution_count": 3,
     "metadata": {},
     "output_type": "execute_result"
    }
   ],
   "source": [
    "'A'*5"
   ]
  },
  {
   "cell_type": "code",
   "execution_count": 1,
   "id": "7777d38e",
   "metadata": {},
   "outputs": [],
   "source": [
    "def encodeString(stringVal):\n",
    "    pass\n",
    "\n",
    "def decodeString(encodedList):\n",
    "    pass"
   ]
  },
  {
   "cell_type": "code",
   "execution_count": 2,
   "id": "3eee6256",
   "metadata": {},
   "outputs": [],
   "source": [
    "art = '''\n",
    "\n",
    "                                                                                \n",
    "                                                                                \n",
    "                               %%%%%%%%%%%%%%%%%%%                              \n",
    "                        %%%%%%%%%%%%%%%%%%%%%%%%%%%%%%%%%                       \n",
    "                    %%%%%%%%                         %%%%%%%%                   \n",
    "                %%%%%%%                                   %%%%%%                \n",
    "              %%%%%%                                         %%%%%%             \n",
    "           %%%%%%                                               %%%%%           \n",
    "          %%%%%                                                   %%%%%         \n",
    "        %%%%%                                                       %%%%%       \n",
    "       %%%%                 %%%%%              %%%%%                  %%%%      \n",
    "      %%%%                 %%%%%%%            %%%%%%%                  %%%%     \n",
    "     %%%%                  %%%%%%%            %%%%%%%                   %%%%    \n",
    "    %%%%                   %%%%%%%            %%%%%%%                    %%%%   \n",
    "    %%%%                    %%%%%              %%%%%                     %%%%   \n",
    "   %%%%                                                                   %%%%  \n",
    "   %%%%                                                                   %%%%  \n",
    "   %%%%                                                                   %%%%  \n",
    "   %%%%                                                      %%%%        %%%%   \n",
    "    %%%%       %%%%%%                                        %%%%%       %%%%   \n",
    "    %%%%         %%%%                                       %%%%        %%%%    \n",
    "     %%%%         %%%%                                     %%%%         %%%%    \n",
    "      %%%%         %%%%%                                  %%%%         %%%%     \n",
    "       %%%%%         %%%%%                             %%%%%         %%%%%      \n",
    "        %%%%%          %%%%%%                        %%%%%          %%%%        \n",
    "          %%%%%           %%%%%%%               %%%%%%%           %%%%%         \n",
    "            %%%%%             %%%%%%%%%%%%%%%%%%%%%             %%%%%           \n",
    "              %%%%%%%                                        %%%%%              \n",
    "                 %%%%%%%                                 %%%%%%%                \n",
    "                     %%%%%%%%%                     %%%%%%%%%                    \n",
    "                          %%%%%%%%%%%%%%%%%%%%%%%%%%%%%                         \n",
    "                                   %%%%%%%%%%%%                                 \n",
    "                                                                                \n",
    "                                                                                 \n",
    "\n",
    "'''"
   ]
  },
  {
   "cell_type": "code",
   "execution_count": 7,
   "id": "dec27033",
   "metadata": {},
   "outputs": [],
   "source": [
    "encodedString = encodeString(art)"
   ]
  },
  {
   "cell_type": "code",
   "execution_count": 8,
   "id": "942d4ff8",
   "metadata": {},
   "outputs": [],
   "source": [
    "decodeString(encodedString)"
   ]
  },
  {
   "cell_type": "code",
   "execution_count": null,
   "id": "e1485f53",
   "metadata": {},
   "outputs": [],
   "source": []
  }
 ],
 "metadata": {
  "kernelspec": {
   "display_name": "Python 3.10.4 64-bit",
   "language": "python",
   "name": "python3"
  },
  "language_info": {
   "codemirror_mode": {
    "name": "ipython",
    "version": 3
   },
   "file_extension": ".py",
   "mimetype": "text/x-python",
   "name": "python",
   "nbconvert_exporter": "python",
   "pygments_lexer": "ipython3",
   "version": "3.10.4"
  },
  "vscode": {
   "interpreter": {
    "hash": "949777d72b0d2535278d3dc13498b2535136f6dfe0678499012e853ee9abcab1"
   }
  }
 },
 "nbformat": 4,
 "nbformat_minor": 5
}
