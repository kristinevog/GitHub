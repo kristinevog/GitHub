{
 "cells": [
  {
   "cell_type": "markdown",
   "id": "dda9c8c6",
   "metadata": {},
   "source": [
    "## Extending the Messenger\n",
    "\n",
    "Create a class \"SaveMessages\" that extends the Messenger class that does the following things:\n",
    "\n",
    "- Add any messages it receives to a list, along with the time the message was received\n",
    "- Use the provided \"getCurrentTime\" function so that the received message time is a string\n",
    "- Contains a method called \"printMessages\" that prints all collected messages when it's called.\n",
    "\n",
    "You might also consider clearing the message list when \"printMessages\" is called. "
   ]
  },
  {
   "cell_type": "markdown",
   "id": "f4a633c4",
   "metadata": {},
   "source": [
    "**Hint 1:** Make sure to override the \"receive\" method in your SaveMessages class, in addition to adding the \"printMessages\" method. You'll want something like this:"
   ]
  },
  {
   "cell_type": "code",
   "execution_count": 6,
   "id": "41574cef",
   "metadata": {},
   "outputs": [],
   "source": [
    "class SaveMessages:\n",
    "    def receive(self, message):\n",
    "        # Save the message here!\n",
    "        pass\n",
    "\n",
    "    def printMessages(self):\n",
    "        # print your messages here!\n",
    "        pass"
   ]
  },
  {
   "cell_type": "markdown",
   "id": "0a4e8a12",
   "metadata": {},
   "source": [
    "**Hint 2:** Consider using an array of dictionaries to hold the message data"
   ]
  },
  {
   "cell_type": "code",
   "execution_count": 14,
   "id": "bfb3981c",
   "metadata": {},
   "outputs": [
    {
     "name": "stdout",
     "output_type": "stream",
     "text": [
      "Message: \"Hello, there! This is the first message\" Time: 08-30-2022 21:18:09\n"
     ]
    }
   ],
   "source": [
    "message = 'Hello, there! This is the first message'\n",
    "\n",
    "messages = []\n",
    "messages.append({'message': message, 'time': getCurrentTime()})\n",
    "\n",
    "for m in messages:\n",
    "    print(f'Message: \"{m[\"message\"]}\" Time: {m[\"time\"]}')"
   ]
  },
  {
   "cell_type": "markdown",
   "id": "be0890af",
   "metadata": {},
   "source": [
    "**HINT 3:** Remember, you can add additional attributes to child class by extending the \\_\\_init\\_\\_ method:\n"
   ]
  },
  {
   "cell_type": "code",
   "execution_count": 1,
   "id": "e9e8743a",
   "metadata": {},
   "outputs": [],
   "source": [
    "class SomeClass:\n",
    "    def __init__(self, existingAttribute=[]):\n",
    "        super().__init__(existingAttribute)\n",
    "        self.newChildClassAttribute = []"
   ]
  },
  {
   "cell_type": "code",
   "execution_count": 9,
   "id": "35d4f1f5",
   "metadata": {},
   "outputs": [],
   "source": [
    "from datetime import datetime\n",
    "\n",
    "def getCurrentTime():\n",
    "    return datetime.now().strftime(\"%m-%d-%Y %H:%M:%S\")\n",
    "\n",
    "\n",
    "class Messenger:\n",
    "    def __init__(self, listeners=[]):\n",
    "        self.listeners = listeners\n",
    "    \n",
    "    def send(self, message):\n",
    "        for listener in self.listeners:\n",
    "            listener.receive(message)\n",
    "\n",
    "    def receive(self, message):\n",
    "        # Must be implemented by extending classes\n",
    "        pass\n",
    "\n",
    "\n",
    "class SaveMessages(Messenger):\n",
    "    # Your code here!\n",
    "    pass\n",
    "\n"
   ]
  },
  {
   "cell_type": "code",
   "execution_count": 15,
   "id": "608e3112",
   "metadata": {},
   "outputs": [],
   "source": [
    "# Run this cell after you've written your solution\n",
    "listener = SaveMessages()\n",
    "\n",
    "sender = Messenger([listener])\n",
    "\n",
    "sender.send('Hello, there! This is the first message')\n"
   ]
  },
  {
   "cell_type": "code",
   "execution_count": null,
   "id": "2de8c179",
   "metadata": {},
   "outputs": [],
   "source": [
    "# Run this cell after you've written your solution\n",
    "sender.send('Oh hi! This is the second message!')"
   ]
  },
  {
   "cell_type": "code",
   "execution_count": null,
   "id": "5731a38e",
   "metadata": {},
   "outputs": [],
   "source": [
    "# Run this cell after you've written your solution\n",
    "sender.send('Hola! This is the third and final message!')\n",
    "\n",
    "listener.printMessages()"
   ]
  }
 ],
 "metadata": {
  "kernelspec": {
   "display_name": "Python 3.10.4 64-bit",
   "language": "python",
   "name": "python3"
  },
  "language_info": {
   "codemirror_mode": {
    "name": "ipython",
    "version": 3
   },
   "file_extension": ".py",
   "mimetype": "text/x-python",
   "name": "python",
   "nbconvert_exporter": "python",
   "pygments_lexer": "ipython3",
   "version": "3.10.4"
  },
  "vscode": {
   "interpreter": {
    "hash": "949777d72b0d2535278d3dc13498b2535136f6dfe0678499012e853ee9abcab1"
   }
  }
 },
 "nbformat": 4,
 "nbformat_minor": 5
}
