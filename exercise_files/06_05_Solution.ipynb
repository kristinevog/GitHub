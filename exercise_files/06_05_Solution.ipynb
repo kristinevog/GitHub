{
 "cells": [
  {
   "cell_type": "markdown",
   "id": "6aa3058e",
   "metadata": {},
   "source": [
    "## Can You Hear Me Now?\n",
    "\n",
    "Create a function \"getWithRetry\" that calls a function until it receives response that is not None, and then returns that response. If it continues to get no response, it should give up after a certain number of tries (to be decided by you) \n",
    "\n",
    "After filling out the \"getWithRetry\" function, run all of the cells in this notebook in order to test the following scenarios:\n",
    "- All services are up\n",
    "- All services are down\n",
    "- All services are down and making a request takes 0.1 seconds to execute\n",
    "\n",
    "What is the ideal number of retries before giving up? How do you know whether the service is down or you're just unlucky?"
   ]
  },
  {
   "cell_type": "code",
   "execution_count": 1,
   "id": "52439a5a",
   "metadata": {},
   "outputs": [],
   "source": [
    "import random\n",
    "import time"
   ]
  },
  {
   "cell_type": "code",
   "execution_count": 2,
   "id": "01d1f0d6",
   "metadata": {},
   "outputs": [],
   "source": [
    "servicesAreUp = True\n",
    "\n",
    "def getData50():\n",
    "    if servicesAreUp and random.random() < 0.5:\n",
    "        return 'You got the data! That only happens 50% of the time!'\n",
    "\n",
    "def getData25():\n",
    "    if servicesAreUp and random.random() < 0.25:\n",
    "        return 'You got the data! That only happens 25% of the time!'    \n",
    "\n",
    "def getData10():\n",
    "    if servicesAreUp and random.random() < 0.1:\n",
    "        return 'You got the data! That only happens 10% of the time!'"
   ]
  },
  {
   "cell_type": "code",
   "execution_count": 3,
   "id": "0994b5f1",
   "metadata": {},
   "outputs": [],
   "source": [
    "# Your code here!\n",
    "def getWithRetry(dataFunc):\n",
    "    maxRetries = 20\n",
    "    for _ in range(0, maxRetries):\n",
    "        response = dataFunc()\n",
    "        if response:\n",
    "            return response\n"
   ]
  },
  {
   "cell_type": "code",
   "execution_count": 5,
   "id": "4a6d8d55",
   "metadata": {},
   "outputs": [],
   "source": [
    "def getWithRetry(dataFunc, retries=20):\n",
    "    if retries == 0:\n",
    "        return 'THE SERVICE IS DOWN!'\n",
    "    return dataFunc() or getWithRetry(dataFunc, retries-1)\n"
   ]
  },
  {
   "cell_type": "code",
   "execution_count": 6,
   "id": "84eb11cb",
   "metadata": {},
   "outputs": [
    {
     "data": {
      "text/plain": [
       "'You got the data! That only happens 50% of the time!'"
      ]
     },
     "execution_count": 6,
     "metadata": {},
     "output_type": "execute_result"
    }
   ],
   "source": [
    "# Should return 'You got the data! That only happens 50% of the time!'\n",
    "getWithRetry(getData50)"
   ]
  },
  {
   "cell_type": "code",
   "execution_count": 7,
   "id": "fd803ca8",
   "metadata": {},
   "outputs": [
    {
     "data": {
      "text/plain": [
       "'You got the data! That only happens 25% of the time!'"
      ]
     },
     "execution_count": 7,
     "metadata": {},
     "output_type": "execute_result"
    }
   ],
   "source": [
    "# Should return 'You got the data! That only happens 25% of the time!'\n",
    "getWithRetry(getData25)"
   ]
  },
  {
   "cell_type": "code",
   "execution_count": 8,
   "id": "5732135e",
   "metadata": {},
   "outputs": [
    {
     "data": {
      "text/plain": [
       "'You got the data! That only happens 10% of the time!'"
      ]
     },
     "execution_count": 8,
     "metadata": {},
     "output_type": "execute_result"
    }
   ],
   "source": [
    "# Should return 'You got the data! That only happens 10% of the time!'\n",
    "getWithRetry(getData10)"
   ]
  },
  {
   "cell_type": "code",
   "execution_count": 9,
   "id": "c8ee2bd0",
   "metadata": {},
   "outputs": [],
   "source": [
    "servicesAreUp = False"
   ]
  },
  {
   "cell_type": "code",
   "execution_count": 10,
   "id": "961a60ea",
   "metadata": {},
   "outputs": [
    {
     "data": {
      "text/plain": [
       "'THE SERVICE IS DOWN!'"
      ]
     },
     "execution_count": 10,
     "metadata": {},
     "output_type": "execute_result"
    }
   ],
   "source": [
    "# Returns None\n",
    "getWithRetry(getData50)"
   ]
  },
  {
   "cell_type": "code",
   "execution_count": 11,
   "id": "b009f04c",
   "metadata": {},
   "outputs": [
    {
     "data": {
      "text/plain": [
       "'THE SERVICE IS DOWN!'"
      ]
     },
     "execution_count": 11,
     "metadata": {},
     "output_type": "execute_result"
    }
   ],
   "source": [
    "# Returns None\n",
    "getWithRetry(getData25)"
   ]
  },
  {
   "cell_type": "code",
   "execution_count": 12,
   "id": "a4b67294",
   "metadata": {},
   "outputs": [
    {
     "data": {
      "text/plain": [
       "'THE SERVICE IS DOWN!'"
      ]
     },
     "execution_count": 12,
     "metadata": {},
     "output_type": "execute_result"
    }
   ],
   "source": [
    "# Returns None\n",
    "getWithRetry(getData10)"
   ]
  },
  {
   "cell_type": "code",
   "execution_count": 13,
   "id": "2ac6e378",
   "metadata": {},
   "outputs": [],
   "source": [
    "def getData50():\n",
    "    time.sleep(.1)\n",
    "    if servicesAreUp and random.random() < 0.5:\n",
    "        return 'You got the data! That only happens 50% of the time!'\n",
    "\n",
    "def getData25():\n",
    "    time.sleep(.1)\n",
    "    if servicesAreUp and random.random() < 0.25:\n",
    "        return 'You got the data! That only happens 25% of the time!'    \n",
    "\n",
    "def getData10():\n",
    "    time.sleep(.1)\n",
    "    if servicesAreUp and random.random() < 0.1:\n",
    "        return 'You got the data! That only happens 10% of the time!'"
   ]
  },
  {
   "cell_type": "code",
   "execution_count": 14,
   "id": "d33b10c6",
   "metadata": {},
   "outputs": [],
   "source": [
    "servicesAreUp = True"
   ]
  },
  {
   "cell_type": "code",
   "execution_count": 15,
   "id": "eca38f4a",
   "metadata": {},
   "outputs": [
    {
     "data": {
      "text/plain": [
       "'You got the data! That only happens 50% of the time!'"
      ]
     },
     "execution_count": 15,
     "metadata": {},
     "output_type": "execute_result"
    }
   ],
   "source": [
    "getWithRetry(getData50)"
   ]
  },
  {
   "cell_type": "code",
   "execution_count": 16,
   "id": "a8a9d650",
   "metadata": {},
   "outputs": [
    {
     "data": {
      "text/plain": [
       "'You got the data! That only happens 25% of the time!'"
      ]
     },
     "execution_count": 16,
     "metadata": {},
     "output_type": "execute_result"
    }
   ],
   "source": [
    "getWithRetry(getData25)"
   ]
  },
  {
   "cell_type": "code",
   "execution_count": 17,
   "id": "3f96192e",
   "metadata": {},
   "outputs": [
    {
     "data": {
      "text/plain": [
       "'THE SERVICE IS DOWN!'"
      ]
     },
     "execution_count": 17,
     "metadata": {},
     "output_type": "execute_result"
    }
   ],
   "source": [
    "getWithRetry(getData10)"
   ]
  },
  {
   "cell_type": "code",
   "execution_count": 18,
   "id": "993f2d05",
   "metadata": {},
   "outputs": [],
   "source": [
    "servicesAreUp = False"
   ]
  },
  {
   "cell_type": "code",
   "execution_count": 19,
   "id": "c116347c",
   "metadata": {},
   "outputs": [
    {
     "data": {
      "text/plain": [
       "'THE SERVICE IS DOWN!'"
      ]
     },
     "execution_count": 19,
     "metadata": {},
     "output_type": "execute_result"
    }
   ],
   "source": [
    "getWithRetry(getData50)"
   ]
  },
  {
   "cell_type": "code",
   "execution_count": 20,
   "id": "89a44acc",
   "metadata": {},
   "outputs": [
    {
     "data": {
      "text/plain": [
       "'THE SERVICE IS DOWN!'"
      ]
     },
     "execution_count": 20,
     "metadata": {},
     "output_type": "execute_result"
    }
   ],
   "source": [
    "getWithRetry(getData25)"
   ]
  },
  {
   "cell_type": "code",
   "execution_count": 21,
   "id": "a595e916",
   "metadata": {},
   "outputs": [
    {
     "data": {
      "text/plain": [
       "'THE SERVICE IS DOWN!'"
      ]
     },
     "execution_count": 21,
     "metadata": {},
     "output_type": "execute_result"
    }
   ],
   "source": [
    "getWithRetry(getData10)"
   ]
  },
  {
   "cell_type": "code",
   "execution_count": null,
   "id": "ce6ec39a",
   "metadata": {},
   "outputs": [],
   "source": []
  },
  {
   "cell_type": "code",
   "execution_count": null,
   "id": "2ec10387",
   "metadata": {},
   "outputs": [],
   "source": []
  }
 ],
 "metadata": {
  "kernelspec": {
   "display_name": "Python 3.10.4 64-bit",
   "language": "python",
   "name": "python3"
  },
  "language_info": {
   "codemirror_mode": {
    "name": "ipython",
    "version": 3
   },
   "file_extension": ".py",
   "mimetype": "text/x-python",
   "name": "python",
   "nbconvert_exporter": "python",
   "pygments_lexer": "ipython3",
   "version": "3.10.4"
  },
  "vscode": {
   "interpreter": {
    "hash": "949777d72b0d2535278d3dc13498b2535136f6dfe0678499012e853ee9abcab1"
   }
  }
 },
 "nbformat": 4,
 "nbformat_minor": 5
}
